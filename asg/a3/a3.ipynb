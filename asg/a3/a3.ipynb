{
 "cells": [
  {
   "cell_type": "markdown",
   "metadata": {},
   "source": [
    "# CS579: Assignment 3\n",
    "\n",
    "In this assignment, you will fit a text classifier to categorize movie reviews by sentiment."
   ]
  },
  {
   "cell_type": "code",
   "execution_count": 37,
   "metadata": {
    "collapsed": false
   },
   "outputs": [],
   "source": [
    "from collections import Counter\n",
    "import glob\n",
    "import hashlib\n",
    "import string\n",
    "import io\n",
    "import math\n",
    "import pprint\n",
    "import matplotlib.pyplot as plt\n",
    "import numpy as np\n",
    "import os\n",
    "import re\n",
    "import string\n",
    "from sklearn.cross_validation import KFold\n",
    "from sklearn.feature_extraction.text import CountVectorizer\n",
    "from sklearn.linear_model import LogisticRegression\n",
    "from sklearn.metrics import accuracy_score\n",
    "import tarfile\n",
    "from urllib import urlretrieve\n",
    "%matplotlib inline"
   ]
  },
  {
   "cell_type": "code",
   "execution_count": 38,
   "metadata": {
    "collapsed": false
   },
   "outputs": [],
   "source": [
    "def get_data():\n",
    "    \"\"\" Download and unzip data.\"\"\"\n",
    "    urlretrieve('https://www.dropbox.com/s/xk4glpk61q3qrg2/imdb.tgz?dl=1', 'imdb.tgz')\n",
    "    tar = tarfile.open(\"imdb.tgz\")\n",
    "    tar.extractall()\n",
    "    tar.close()\n",
    "    \n",
    "get_data()"
   ]
  },
  {
   "cell_type": "code",
   "execution_count": 39,
   "metadata": {
    "collapsed": false
   },
   "outputs": [
    {
     "name": "stdout",
     "output_type": "stream",
     "text": [
      "subdirectories are:['.DS_Store', 'test', 'train']\n"
     ]
    }
   ],
   "source": [
    "# Here is the path to the data directory.\n",
    "path = 'data'\n",
    "print('subdirectories are:' + str(os.listdir(path)))"
   ]
  },
  {
   "cell_type": "code",
   "execution_count": 40,
   "metadata": {
    "collapsed": false
   },
   "outputs": [],
   "source": [
    "def get_files(path):\n",
    "    \"\"\" Return a list of file names in this directory that end in .txt \n",
    "    The list should be sorted alphabetically by file name.\n",
    "    Params:\n",
    "        path....a directory containing .txt review files.\n",
    "    Returns:\n",
    "        a list of .txt file names, sorted alphabetically.\n",
    "    \"\"\"\n",
    "    pattern = path+os.sep+'*.txt'\n",
    "    files = glob.glob(pattern)\n",
    "    return files"
   ]
  },
  {
   "cell_type": "code",
   "execution_count": 41,
   "metadata": {
    "collapsed": false,
    "scrolled": true
   },
   "outputs": [
    {
     "name": "stdout",
     "output_type": "stream",
     "text": [
      "found 200 positive and 200 negative training files\n",
      "first positive file: data/train/pos/10057_9.txt\n",
      "first negative file: data/train/neg/10108_1.txt\n"
     ]
    }
   ],
   "source": [
    "pos_train_files = get_files(path + os.sep + 'train' + os.sep + 'pos')\n",
    "neg_train_files = get_files(path + os.sep + 'train' + os.sep + 'neg')\n",
    "all_train_files = pos_train_files + neg_train_files\n",
    "\n",
    "print('found %d positive and %d negative training files' %\n",
    "      (len(pos_train_files), len(neg_train_files)))\n",
    "print('first positive file: %s' % pos_train_files[0])\n",
    "print('first negative file: %s' % neg_train_files[0])"
   ]
  },
  {
   "cell_type": "code",
   "execution_count": 42,
   "metadata": {
    "collapsed": false
   },
   "outputs": [
    {
     "name": "stdout",
     "output_type": "stream",
     "text": [
      "my first 3 and last 3 labels are: [1 1 1 0 0 0]\n"
     ]
    }
   ],
   "source": [
    "def get_true_labels(file_names):\n",
    "    \"\"\"Return a *numpy array* of ints for the true sentiment labels of each file.\n",
    "    1 means positive, 0 means negative. Use the name of the file to determine\n",
    "    the true label.\n",
    "    Params:\n",
    "        file_names....a list of .txt file paths, e.g., data/train/pos/10057_9.txt\n",
    "    Returns:\n",
    "        a numpy array of 1 or 0 values corresponding to each element\n",
    "        of file_names, where 1 indicates a positive review, and 0\n",
    "        indicates a negative review.\n",
    "    \"\"\"\n",
    "    labels = []\n",
    "    pos_pattern = re.compile(r\"\\w+/\\w+/pos/\\S+.\\w+\")\n",
    "    neg_pattern = re.compile(r\"\\w+/\\w+/neg/\\S+.\\w+\")\n",
    "    for file in file_names:\n",
    "        if re.search(pos_pattern, file):\n",
    "            labels.append(1)\n",
    "        elif re.search(neg_pattern, file):\n",
    "            labels.append(0)\n",
    "        else:\n",
    "            pass\n",
    "    return np.array(labels)\n",
    "labels = get_true_labels(all_train_files)\n",
    "print('my first 3 and last 3 labels are: %s' % str(labels[[1,2,3,-3,-2,-1]]))"
   ]
  },
  {
   "cell_type": "code",
   "execution_count": 43,
   "metadata": {
    "collapsed": false
   },
   "outputs": [
    {
     "data": {
      "text/plain": [
       "u\"This is a great film!! The first time I saw it I thought it was absorbing from start to finish and I still do now. I may not have seen the play, but even if I had it wouldn't stop me thinking that the film is just as good.\""
      ]
     },
     "execution_count": 43,
     "metadata": {},
     "output_type": "execute_result"
    }
   ],
   "source": [
    "# Here's what a positive review looks like.\n",
    "def file2string(filename):\n",
    "    return io.open(filename, encoding='utf8').readlines()[0]\n",
    "    \n",
    "file2string(pos_train_files[10])"
   ]
  },
  {
   "cell_type": "code",
   "execution_count": 44,
   "metadata": {
    "collapsed": false
   },
   "outputs": [
    {
     "data": {
      "text/plain": [
       "['hi',\n",
       " 'how',\n",
       " 's',\n",
       " 'it',\n",
       " 'going',\n",
       " 'an_underscore',\n",
       " 'is',\n",
       " 'not',\n",
       " 'really',\n",
       " 'punctuation']"
      ]
     },
     "execution_count": 44,
     "metadata": {},
     "output_type": "execute_result"
    }
   ],
   "source": [
    "def tokenize(text):\n",
    "    \"\"\"Given a string, return a list of tokens such that: (1) all\n",
    "    tokens are lowercase, (2) all punctuation is removed. Note that\n",
    "    underscore (_) is not considered punctuation.\n",
    "    Params:\n",
    "        text....a string\n",
    "    Returns:\n",
    "        a list of tokens\n",
    "    \"\"\"\n",
    "    lower_case = text.lower()\n",
    "    tokens = re.findall(r'\\w+', lower_case)\n",
    "    return tokens\n",
    "\n",
    "tokenize(\"Hi! How's it going??? an_underscore is not *really* punctuation.\")"
   ]
  },
  {
   "cell_type": "code",
   "execution_count": 45,
   "metadata": {
    "collapsed": false,
    "scrolled": true
   },
   "outputs": [
    {
     "name": "stdout",
     "output_type": "stream",
     "text": [
      "matrix represents 400 documents with 10710 features\n",
      "first doc has terms:\n",
      "[128, 170, 202, 253, 260, 312, 355, 439, 504, 514, 560, 673, 683, 702, 750, 860, 869, 961, 985, 1013, 1222, 1254, 1312, 1341, 1403, 1444, 1451, 1469, 1504, 1658, 1665, 1743, 2465, 2537, 2996, 3109, 3206, 3229, 3356, 3368, 3515, 3634, 3706, 3716, 3759, 3810, 3926, 4015, 4059, 4061, 4087, 4139, 4205, 4207, 4222, 4309, 4366, 4384, 4412, 4435, 4472, 4510, 4524, 4631, 4690, 4757, 4798, 5062, 5074, 5225, 5274, 5287, 5289, 5312, 5360, 5418, 5609, 5610, 5646, 5693, 5761, 5888, 5932, 5948, 6116, 6243, 6258, 6294, 6424, 6440, 6579, 6620, 6676, 6696, 6860, 6942, 7094, 7626, 8052, 8248, 8336, 8341, 8474, 8767, 8988, 9204, 9412, 9436, 9440, 9505, 9508, 9523, 9550, 9558, 9634, 9684, 9690, 9835, 9855, 9857, 10047, 10337, 10353, 10431, 10441, 10446, 10448, 10519]\n"
     ]
    }
   ],
   "source": [
    "def do_vectorize(filename, tokenizer_fn=tokenize, min_df=1,\n",
    "                 max_df=1., binary=True, ngram_range=(1,1)):\n",
    "    \"\"\"\n",
    "    Convert a list of filenames into a sparse csr_matrix, where\n",
    "    each row is a file and each column represents a unique word.\n",
    "    Use sklearn's CountVectorizer: http://goo.gl/eJ2PJ5\n",
    "    Params:\n",
    "        filenames.......list of review file names\n",
    "        tokenizer_fn....the function used to tokenize each document\n",
    "        min_df..........remove terms from the vocabulary that don't appear\n",
    "                        in at least this many documents\n",
    "        max_df..........remove terms from the vocabulary that appear in more\n",
    "                        than this fraction of documents\n",
    "        binary..........If true, each documents is represented by a binary\n",
    "                        vector, where 1 means a term occurs at least once in \n",
    "                        the document. If false, the term frequency is used instead.\n",
    "        ngram_range.....A tuple (n,m) means to use phrases of length n to m inclusive.\n",
    "                        E.g., (1,2) means consider unigrams and bigrams.\n",
    "    Return:\n",
    "        A tuple (X, vec), where X is the csr_matrix of feature vectors,\n",
    "        and vec is the CountVectorizer object.\n",
    "    \"\"\"\n",
    "    vec = CountVectorizer(input = 'filename', tokenizer = tokenizer_fn, min_df = min_df, \n",
    "                         max_df = max_df, binary = binary, ngram_range = ngram_range)\n",
    "    X = vec.fit_transform(filename)\n",
    "    return (X, vec)\n",
    "    \n",
    "    \n",
    "matrix, vec = do_vectorize(all_train_files)\n",
    "print ('matrix represents %d documents with %d features' % (matrix.shape[0], matrix.shape[1]))\n",
    "print('first doc has terms:\\n%s' % (str(sorted(matrix[0].nonzero()[1]))))"
   ]
  },
  {
   "cell_type": "code",
   "execution_count": 46,
   "metadata": {
    "collapsed": false
   },
   "outputs": [
    {
     "name": "stdout",
     "output_type": "stream",
     "text": [
      "first shuffled document data/train/pos/5140_10.txt has label 1 and terms: [98, 170, 355, 384, 514, 720, 750, 780, 1225, 2234, 3356, 3682, 3916, 4015, 4397, 4690, 4798, 5074, 5080, 5764, 5948, 6579, 6782, 6950, 7899, 8186, 8587, 9045, 9508, 9550, 9609, 9827, 10003, 10421, 10640]\n"
     ]
    }
   ],
   "source": [
    "# Do not modify. This is to randomize the order of the documents, but\n",
    "# in a way that is consistent across platforms.\n",
    "# See: http://stackoverflow.com/a/18992474/1756896\n",
    "# You should run this block once to get the shuffled data.\n",
    "def repeatable_random(seed):\n",
    "    hash = str(seed)\n",
    "    while True:\n",
    "        hash = hashlib.md5(hash).digest()\n",
    "        for c in hash:\n",
    "            yield ord(c)\n",
    "\n",
    "def repeatable_shuffle(X, y, filenames):\n",
    "    r = repeatable_random(42) \n",
    "    indices = sorted(range(X.shape[0]), key=lambda x: next(r))\n",
    "    return X[indices], y[indices], np.array(filenames)[indices]\n",
    "\n",
    "X, y, filenames = repeatable_shuffle(matrix, labels, all_train_files)\n",
    "\n",
    "print('first shuffled document %s has label %d and terms: %s' % \n",
    "      (filenames[0], y[0], sorted(X[0].nonzero()[1])))"
   ]
  },
  {
   "cell_type": "code",
   "execution_count": 47,
   "metadata": {
    "collapsed": true
   },
   "outputs": [],
   "source": [
    "# Do not modify. This creates a LogsticRegression object, which\n",
    "# you will use in the do_cross_validation method below.\n",
    "def get_clf():\n",
    "    return LogisticRegression(random_state=42)"
   ]
  },
  {
   "cell_type": "code",
   "execution_count": 48,
   "metadata": {
    "collapsed": false
   },
   "outputs": [
    {
     "name": "stdout",
     "output_type": "stream",
     "text": [
      "fold 0 accuracy is  0.7125\n",
      "fold 1 accuracy is  0.775\n",
      "fold 2 accuracy is  0.775\n",
      "fold 3 accuracy is  0.725\n",
      "fold 4 accuracy is  0.7125\n",
      "average cross validation accuracy=0.7400\n"
     ]
    }
   ],
   "source": [
    "def do_cross_validation(X, y, n_folds=5, verbose=False):\n",
    "    \"\"\"\n",
    "    Perform n-fold cross validation, calling get_clf() to train n\n",
    "    different classifiers. Use sklearn's KFold class: http://goo.gl/wmyFhi\n",
    "    Be sure not to shuffle the data, otherwise your output will differ.\n",
    "    Params:\n",
    "        X.........a csr_matrix of feature vectors\n",
    "        y.........the true labels of each document\n",
    "        n_folds...the number of folds of cross-validation to do\n",
    "        verbose...If true, report the testing accuracy for each fold.\n",
    "    Return:\n",
    "        the average testing accuracy across all folds.\n",
    "    \"\"\"\n",
    "    kf = KFold(X.shape[0], n_folds=n_folds, shuffle=False)\n",
    "    clf = LogisticRegression()\n",
    "    accuraries = []\n",
    "    for fold,indexes in enumerate(kf):\n",
    "        train_index, test_index = indexes\n",
    "        clf.fit(X[train_index], y[train_index])\n",
    "        predicted = clf.predict(X[test_index])\n",
    "        acc = accuracy_score(y[test_index], predicted)\n",
    "        if verbose:\n",
    "            print 'fold', fold,'accuracy is ', acc\n",
    "        accuraries.append(acc)\n",
    "    return np.mean(accuraries)\n",
    "    \n",
    "print('average cross validation accuracy=%.4f' %\n",
    "      do_cross_validation(X, y, verbose=True))"
   ]
  },
  {
   "cell_type": "code",
   "execution_count": 49,
   "metadata": {
    "collapsed": true
   },
   "outputs": [],
   "source": [
    "def do_expt(filenames, y, tokenizer_fn=tokenize,\n",
    "            min_df=1, max_df=1., binary=True,\n",
    "            ngram_range=(1,1), n_folds=5):\n",
    "    \"\"\"\n",
    "    Run one experiment, which consists of vectorizing each file,\n",
    "    performing cross-validation, and returning the average accuracy.\n",
    "    You should call do_vectorize and do_cross_validation here.\n",
    "    Params:\n",
    "        filenames.......list of review file names\n",
    "        y...............the true sentiment labels for each file\n",
    "        tokenizer_fn....the function used to tokenize each document\n",
    "        min_df..........remove terms from the vocabulary that don't appear\n",
    "                        in at least this many documents\n",
    "        max_df..........remove terms from the vocabulary that appear in more\n",
    "                        than this fraction of documents\n",
    "        binary..........If true, each documents is represented by a binary\n",
    "                        vector, where 1 means a term occurs at least once in \n",
    "                        the document. If false, the term frequency is used instead.\n",
    "        ngram_range.....A tuple (n,m) means to use phrases of length n to m inclusive.\n",
    "                        E.g., (1,2) means consider unigrams and bigrams.\n",
    "        n_folds.........The number of cross-validation folds to use.\n",
    "    Returns:\n",
    "        the average cross validation testing accuracy.\n",
    "    \"\"\"\n",
    "    X, vec = do_vectorize(filenames, tokenizer_fn=tokenizer_fn, min_df=min_df, \n",
    "                          max_df=max_df, binary=binary, ngram_range=ngram_range)        \n",
    "    avg_accuracy = do_cross_validation(X, y, n_folds=n_folds, verbose=False)\n",
    "    return avg_accuracy"
   ]
  },
  {
   "cell_type": "code",
   "execution_count": 50,
   "metadata": {
    "collapsed": false
   },
   "outputs": [
    {
     "name": "stdout",
     "output_type": "stream",
     "text": [
      "accuracy using default settings: 0.74\n"
     ]
    }
   ],
   "source": [
    "print('accuracy using default settings: %.4g' % do_expt(filenames, y))"
   ]
  },
  {
   "cell_type": "markdown",
   "metadata": {},
   "source": [
    "## Compare accuracy of various settings\n",
    "\n",
    "Next, we'll try out a few different settings to see how they affect cross-validation accuracy."
   ]
  },
  {
   "cell_type": "code",
   "execution_count": 51,
   "metadata": {
    "collapsed": false
   },
   "outputs": [
    {
     "data": {
      "image/png": "[encoded data removed]",
      "text/plain": [
       "<matplotlib.figure.Figure at 0x108562a90>"
      ]
     },
     "metadata": {},
     "output_type": "display_data"
    },
    {
     "data": {
      "text/plain": [
       "[0.69999999999999996, 0.73999999999999999, 0.745, 0.75250000000000006]"
      ]
     },
     "execution_count": 51,
     "metadata": {},
     "output_type": "execute_result"
    }
   ],
   "source": [
    "def compare_n_folds(filenames, y):\n",
    "    \"\"\"\n",
    "    Vary the setting of n_folds parameter in the do_expt \n",
    "    function to be in [2,5,10,20]. For each setting, call do_expt and \n",
    "    store the resulting accuracy. Plot the accuracies for each setting.\n",
    "    Also return the list of accuracies. Use the default value for all\n",
    "    other arguments to the do_expt function.\n",
    "    Params:\n",
    "        filenames....list of training file names\n",
    "        y............true labels for each file (a numpy array)\n",
    "    Returns:\n",
    "        a list of average testing accuracies, one per fold.\n",
    "    \"\"\"\n",
    "    n_folds = [2,5,10,20]\n",
    "    avg_fold_accuracies =[]\n",
    "    for fold in n_folds:\n",
    "        avg_accuracy = do_expt(filenames, y, n_folds=fold)\n",
    "        avg_fold_accuracies.append(avg_accuracy)\n",
    "    plt.plot(n_folds, avg_fold_accuracies, marker='o')\n",
    "    plt.show()\n",
    "    return avg_fold_accuracies\n",
    "        \n",
    "    \n",
    "compare_n_folds(filenames, y)"
   ]
  },
  {
   "cell_type": "markdown",
   "metadata": {},
   "source": [
    "Why do you think accuracy increases as the number of folds increases?\n",
    "\n",
    "**Enter your answer here in this cell:**\n",
    "```\n",
    "As you increase the value of k the amount of training data increases. \n",
    "hence the classifer accuracy increases as you linearly increase k.\n",
    "\n",
    "For instance:\n",
    "\n",
    "\n",
    "for 2-fold  50%(Training-Data)            50%(Testing-Data)\n",
    "for 3-fold   66%(Training-Data)            33%(Testing-Data)\n",
    "for 4-fold   75%(Training-Data)            25%(Testing-Data)\n",
    "for 5-fold   80%(Training-Data)            20%(Testing-Data)\n",
    "\n",
    "Therefore the average accuracy will also increase\n",
    "```\n",
    "\n",
    "\n",
    "\n",
    "\n",
    "\n",
    "\n"
   ]
  },
  {
   "cell_type": "code",
   "execution_count": 52,
   "metadata": {
    "collapsed": false
   },
   "outputs": [
    {
     "data": {
      "text/plain": [
       "[0.73999999999999999, 0.69999999999999996]"
      ]
     },
     "execution_count": 52,
     "metadata": {},
     "output_type": "execute_result"
    }
   ],
   "source": [
    "def compare_binary(filenames, y):\n",
    "    \"\"\"\n",
    "    How does the binary parameter affect results? \n",
    "    Call do_expt twice, once with binary=True, and once with binary=False.\n",
    "    Return the average accuracies for each. Use the default parameters for the\n",
    "    remaining arguments in do_expt.\n",
    "    Params:\n",
    "        filenames....list of training file names\n",
    "        y............true labels for each file (a numpy array)\n",
    "    Returns:\n",
    "        a list of average testing accuracies. The first entry\n",
    "        is for binary=True, the second is for binary=False.\n",
    "    \"\"\"\n",
    "    boolean = [True, False]\n",
    "    return [do_expt(filenames, y, binary=b) for b in boolean]\n",
    "            \n",
    "          \n",
    "compare_binary(filenames, y)"
   ]
  },
  {
   "cell_type": "markdown",
   "metadata": {},
   "source": [
    "Why do you think using binary feature vectors does better than using term frequency?\n",
    "\n",
    "**Enter your answer here in this cell:**\n",
    "\n",
    "```\n",
    "A term frequency of common words like (the, is, a) may lead to a bias in classification as the probability of their occurence in more in a sentence. Where a binary representation only takes into account whether a term has appeared or not (i.e) 0 or 1 and hence does not lead to bias in classification as it doesnt consider term frequency.\n",
    "```\n",
    "\n",
    "\n",
    "\n",
    "\n",
    "\n",
    "\n",
    "\n",
    "\n"
   ]
  },
  {
   "cell_type": "markdown",
   "metadata": {},
   "source": [
    "** Next, we will compare three different tokenization functions. **"
   ]
  },
  {
   "cell_type": "code",
   "execution_count": 54,
   "metadata": {
    "collapsed": false
   },
   "outputs": [
    {
     "data": {
      "text/plain": [
       "['hi',\n",
       " '!',\n",
       " 'how',\n",
       " \"'\",\n",
       " 's',\n",
       " 'it',\n",
       " 'going',\n",
       " '?',\n",
       " '?',\n",
       " '?',\n",
       " 'an_underscore',\n",
       " 'is',\n",
       " 'not',\n",
       " '*',\n",
       " 'really',\n",
       " '*',\n",
       " 'punctuation',\n",
       " '.']"
      ]
     },
     "execution_count": 54,
     "metadata": {},
     "output_type": "execute_result"
    }
   ],
   "source": [
    "def tokenize_with_punct(text):\n",
    "    \"\"\"Given a string, return a list of tokens such that: (1) all\n",
    "    tokens are lowercase, (2) all punctuation is kept as separate tokens.\n",
    "    Note that underscore (_) is not considered punctuation.\n",
    "    Params:\n",
    "        text....a string\n",
    "    Returns:\n",
    "        a list of tokens\n",
    "    \"\"\"\n",
    "    \"\"\"\n",
    "    lower_case =  text.lower()\n",
    "    #print 'lower_case in utf-8', lower_case\n",
    "    #tokenized = re.findall(r'\\w+|\\S', lower_case, re.L)\n",
    "    #print tokenized\n",
    "    #[token.encode('utf-8').decode('utf-8').encode('utf-8') for token in tokenized]\n",
    "    new_text = re.sub(r'[\\x85]',\" \",lower_case)\n",
    "    tokenized = re.findall(r'\\w+|\\S', new_text)\n",
    "    return tokenized\n",
    "    \"\"\"\n",
    "    \n",
    "    lower_case = text.lower()\n",
    "    alphanumeric_regex_pattern = '\\w+'\n",
    "    punctuation_regex_pattern = r'[%s]' % string.punctuation\n",
    "\n",
    "    try:\n",
    "    \n",
    "        non_ascii_regex_pattern = u'[\\U00000086-\\U0010ffff]'\n",
    "        re.compile(non_ascii_regex_pattern) \n",
    "    except re.error:\n",
    "    \n",
    "        non_ascii_regex_pattern = u'[\\u0086-\\uFFFF]'\n",
    "\n",
    "    token_regex = re.compile('|'.join((alphanumeric_regex_pattern, punctuation_regex_pattern, non_ascii_regex_pattern)))\n",
    "\n",
    "    sample_strs = [\n",
    "    u'not the fiancée of not Henri',\n",
    "    u'hi there \\x85 how are you?',\n",
    "    \"Hi! How's it going??? an_underscore is not *really* punctuation.\",\n",
    "    ]\n",
    "    #for s in sample_strs:\n",
    "    #    pprint.pprint(token_regex.findall(s))\n",
    "    return token_regex.findall(lower_case)\n",
    "#nonascii_string = u'énot the\\x85fiancéée-\\n\\rof not Henrié'\n",
    "#print tokenize_with_punct(nonascii_string)\n",
    "#print 'tokenize_with_punct :%s' % ','.join(tokenize_with_punct(nonascii_string)])\n",
    "#print tokenize_with_punct('not the fiancée of not Henri')\n",
    "tokenize_with_punct(\"Hi! How's it going??? an_underscore is not *really* punctuation.\")\n",
    "#with punct: [u'\\xe9', u'not', u'the', u'fianc', u'\\xe9', u'\\xe9', u'e', u'-', u'of', u'not', u'henri', u'\\xe9']\n"
   ]
  },
  {
   "cell_type": "markdown",
   "metadata": {},
   "source": [
    "A common problem in sentiment analysis is **negation.** E.g., \"This movie is **not** good\" and \"This movie is good\" will have very similar feature vectors. However, the term **good** in the first sentence is clearly being used differently than in the second sentence. The tokenizer below attempts to distinguish between these cases."
   ]
  },
  {
   "cell_type": "code",
   "execution_count": 55,
   "metadata": {
    "collapsed": false
   },
   "outputs": [
    {
     "data": {
      "text/plain": [
       "['this',\n",
       " 'movie',\n",
       " 'is',\n",
       " 'not',\n",
       " 'not_good',\n",
       " 'not_.',\n",
       " 'in',\n",
       " 'fact',\n",
       " ',',\n",
       " 'it',\n",
       " 'is',\n",
       " 'not',\n",
       " 'not_even',\n",
       " 'not_really',\n",
       " 'a',\n",
       " 'movie',\n",
       " '.']"
      ]
     },
     "execution_count": 55,
     "metadata": {},
     "output_type": "execute_result"
    }
   ],
   "source": [
    "def tokenize_with_not(text):\n",
    "    \"\"\"Does the same thing as tokenize_with_punct, with the following difference:\n",
    "    whenever the term 'not' appears, change the two subsequent tokens to have the prefix\n",
    "    'not_' prior to the token. See the example below. You may call \n",
    "    tokenize_with_punct as a subroutine.\n",
    "    Params:\n",
    "        text....a string\n",
    "    Returns:\n",
    "        a list of tokens\n",
    "    \"\"\"\n",
    "    tokenzied = tokenize_with_punct(text)\n",
    "    not_tokenized = []\n",
    "    i = 0\n",
    "    \n",
    "    def to_handle_not(tokenzied, not_tokenized, index):\n",
    "            not_tokenized.append(tokenzied[index])\n",
    "            limit = index+3\n",
    "            for j in range(index+1, limit):\n",
    "                if j < len(tokenzied):\n",
    "                    not_plus_next = tokenzied[index]+'_'+tokenzied[j]\n",
    "                    not_tokenized.append(not_plus_next)\n",
    "            #not_plus_2next = tokenzied[index]+'_'+tokenzied[index+2]\n",
    "            #not_tokenized.append(not_plus_2next)\n",
    "            return (not_tokenized, limit)\n",
    "        \n",
    "    \n",
    "    while i < len(tokenzied)-2:\n",
    "        if tokenzied[i] == 'not':\n",
    "            not_tokenized, i = to_handle_not(tokenzied, not_tokenized, i)\n",
    "        else:\n",
    "            not_tokenized.append(tokenzied[i])\n",
    "            i += 1\n",
    "    if i < len(tokenzied)-1 and tokenzied[i] == 'not':\n",
    "        to_handle_not(tokenzied, not_tokenized, i)\n",
    "    else:\n",
    "        not_tokenized.extend(tokenzied[i:])\n",
    "    return not_tokenized\n",
    "\n",
    "tokenize_with_not(\"This movie is not good. In fact, it is not even really a movie.\")"
   ]
  },
  {
   "cell_type": "code",
   "execution_count": 19,
   "metadata": {
    "collapsed": false
   },
   "outputs": [
    {
     "data": {
      "text/plain": [
       "[0.73999999999999999, 0.74499999999999988, 0.74749999999999994]"
      ]
     },
     "execution_count": 19,
     "metadata": {},
     "output_type": "execute_result"
    }
   ],
   "source": [
    "def tokenizer_expt(all_train_files, y):\n",
    "    \"\"\"\n",
    "    How does the tokenizer affect results? \n",
    "    Call do_expt three times, using three different tokenizers:\n",
    "    1- tokenize\n",
    "    2- tokenize_with_punct\n",
    "    3- tokenize_with_not\n",
    "    Return the average cross-validation accuracy for each approach,\n",
    "    in the above order. Use the default parameters for all other \n",
    "    arguments to do_expt.\n",
    "    Params:\n",
    "        filenames....list of training file names\n",
    "        y............true labels for each file (a numpy array)\n",
    "    Returns:\n",
    "        a list of average testing accuracies for each tokenizer.\n",
    "    \"\"\"\n",
    "    tokenizers = [tokenize, tokenize_with_punct, tokenize_with_not]\n",
    "    return [do_expt(all_train_files, y, tokenizer_fn = tokenizer) for tokenizer in tokenizers]\n",
    "\n",
    "tokenizer_expt(filenames, y)"
   ]
  },
  {
   "cell_type": "markdown",
   "metadata": {},
   "source": [
    "**We can see that tokenize_with_not results in slightly higher accuracy.\n",
    "In all experiments below, be sure to use tokenize_with_not as the tokenizer.**"
   ]
  },
  {
   "cell_type": "code",
   "execution_count": 56,
   "metadata": {
    "collapsed": false,
    "scrolled": true
   },
   "outputs": [
    {
     "data": {
      "image/png": "[encoded data removed]",
      "text/plain": [
       "<matplotlib.figure.Figure at 0x10af16f50>"
      ]
     },
     "metadata": {},
     "output_type": "display_data"
    },
    {
     "data": {
      "text/plain": [
       "[0.74749999999999994,\n",
       " 0.76000000000000001,\n",
       " 0.75000000000000011,\n",
       " 0.74249999999999994,\n",
       " 0.74999999999999989,\n",
       " 0.74249999999999994,\n",
       " 0.74749999999999994,\n",
       " 0.73750000000000004,\n",
       " 0.72750000000000004,\n",
       " 0.73000000000000009]"
      ]
     },
     "execution_count": 56,
     "metadata": {},
     "output_type": "execute_result"
    }
   ],
   "source": [
    "def min_df_expt(filenames, y):\n",
    "    \"\"\"\n",
    "    Vary the setting of min_df parameter in the do_expt \n",
    "    function to be ints in the range (1,10) (inclusive). For each setting,\n",
    "    call do_expt and store the resulting accuracy. Plot the accuracies for each setting.\n",
    "    Also return the list of accuracies. Use the default value for all\n",
    "    other arguments to the do_expt function, except that the tokenizer\n",
    "    should be tokenize_with_not.\n",
    "    Params:\n",
    "        filenames....list of training file names\n",
    "        y............true labels for each file (a numpy array)\n",
    "    Returns:\n",
    "        a list of average testing accuracies, one per min_df value.\n",
    "    \"\"\"\n",
    "    min_dfs = range(1,11)\n",
    "    accuracies =  [do_expt(filenames, y, tokenizer_fn = tokenize_with_not, min_df = min_df) for min_df in min_dfs]\n",
    "    plt.plot(min_dfs, accuracies, marker='o')\n",
    "    plt.show()\n",
    "    return accuracies\n",
    "\n",
    "min_df_expt(filenames, y)"
   ]
  },
  {
   "cell_type": "markdown",
   "metadata": {},
   "source": [
    "The best accuracy occurs when **min_df=2.** Why do you think this is better than setting **min_df=1**.\n",
    "\n",
    "**Enter your answer here in this cell:**\n",
    "\n",
    "```\n",
    "If min_df=1 we are not eliminating any words from the vocabulary.\n",
    "when min_df=2 we are eliminating rare words(occuring only once) from the vocabulary.\n",
    "With some research online I found out that rare words are city names, person names etc.. which do not have any impact on document classification and hence can be elimiated.\n",
    "Hence ignoring the rare words will lead to better accuracy.\n",
    "```\n",
    "\n",
    "\n",
    "\n",
    "\n",
    "\n"
   ]
  },
  {
   "cell_type": "markdown",
   "metadata": {},
   "source": [
    "**Be sure to set min_df=2 in all experiments below.**"
   ]
  },
  {
   "cell_type": "code",
   "execution_count": 58,
   "metadata": {
    "collapsed": false
   },
   "outputs": [
    {
     "data": {
      "image/png": "[encoded data removed]",
      "text/plain": [
       "<matplotlib.figure.Figure at 0x108460510>"
      ]
     },
     "metadata": {},
     "output_type": "display_data"
    },
    {
     "data": {
      "text/plain": [
       "[0.76000000000000001,\n",
       " 0.75250000000000006,\n",
       " 0.76749999999999996,\n",
       " 0.76000000000000001,\n",
       " 0.75250000000000006,\n",
       " 0.74999999999999989,\n",
       " 0.77000000000000013,\n",
       " 0.76250000000000007,\n",
       " 0.75749999999999995,\n",
       " 0.76000000000000001]"
      ]
     },
     "execution_count": 58,
     "metadata": {},
     "output_type": "execute_result"
    }
   ],
   "source": [
    "def max_df_expt(filenames, y):\n",
    "    \"\"\"\n",
    "    Vary the setting of max_df parameter in the do_expt \n",
    "    function to be one of [.1, .2, .3, .4, .5, .6, .7, .8, .9, 1.].\n",
    "    For each setting, call do_expt and store the resulting accuracy.\n",
    "    Plot the accuracies for each setting. Also return the list of accuracies.\n",
    "    Use the default value for all other arguments to the do_expt function,\n",
    "    except that the tokenizer=tokenize_with_not and min_df=2.\n",
    "    Params:\n",
    "        filenames....list of training file names\n",
    "        y............true labels for each file (a numpy array)\n",
    "    Returns:\n",
    "        a list of average testing accuracies, one per max_df value.\n",
    "    \"\"\"\n",
    "    max_dfs = [.1, .2, .3, .4, .5, .6, .7, .8, .9, 1.]\n",
    "    for max_df in max_dfs:\n",
    "        accuracies =  [do_expt(filenames, y, tokenizer_fn=tokenize_with_not, min_df=2, max_df=max_df) for max_df in max_dfs]\n",
    "    plt.plot(max_dfs, accuracies, marker='o')\n",
    "    plt.show()\n",
    "    return accuracies\n",
    "        \n",
    "    \n",
    "max_df_expt(filenames, y)"
   ]
  },
  {
   "cell_type": "markdown",
   "metadata": {},
   "source": [
    "**So, based on the above experiments, we set:**\n",
    "\n",
    "- binary=True\n",
    "- tokenizer=tokenize_with_not\n",
    "- min_df=2\n",
    "- max_df=.7\n",
    "\n",
    "This results in 5-fold cross-validation accuracy of 76.7%."
   ]
  },
  {
   "cell_type": "markdown",
   "metadata": {},
   "source": [
    "## Inspecting coefficients\n",
    "\n",
    "Next we'll look at the coefficients learned by LogisticRegression to \n",
    "determine how it is making its classification decisions."
   ]
  },
  {
   "cell_type": "code",
   "execution_count": 59,
   "metadata": {
    "collapsed": false
   },
   "outputs": [
    {
     "data": {
      "text/plain": [
       "LogisticRegression(C=1.0, class_weight=None, dual=False, fit_intercept=True,\n",
       "          intercept_scaling=1, max_iter=100, multi_class='ovr',\n",
       "          penalty='l2', random_state=42, solver='liblinear', tol=0.0001,\n",
       "          verbose=0)"
      ]
     },
     "execution_count": 59,
     "metadata": {},
     "output_type": "execute_result"
    }
   ],
   "source": [
    "# First, we'll train our final classifier using our best settings.\n",
    "X, vec = do_vectorize(filenames, tokenizer_fn=tokenize_with_not,\n",
    "                      binary=True, min_df=2, max_df=.7)\n",
    "clf = get_clf()\n",
    "clf.fit(X, y)"
   ]
  },
  {
   "cell_type": "markdown",
   "metadata": {},
   "source": [
    "The LogisticRegression variable (`clf`) has an attribute `.coef_`, which are the learned model coefficients. This is a numpy array with a real value for each term in the vocabulary. Positive values indicate a correlation with the positive class, negative values indicate a correlation with the negative class."
   ]
  },
  {
   "cell_type": "code",
   "execution_count": 60,
   "metadata": {
    "collapsed": false
   },
   "outputs": [
    {
     "name": "stdout",
     "output_type": "stream",
     "text": [
      "<type 'numpy.ndarray'>\n",
      "(1, 4734)\n"
     ]
    }
   ],
   "source": [
    "print type(clf.coef_)\n",
    "print clf.coef_.shape"
   ]
  },
  {
   "cell_type": "code",
   "execution_count": 61,
   "metadata": {
    "collapsed": false
   },
   "outputs": [
    {
     "name": "stdout",
     "output_type": "stream",
     "text": [
      "[ 0.3021783  -0.31127296 -0.01907905 -0.13228897  0.05602542  0.16796849\n",
      " -0.11328267  0.03523083 -0.13081422 -0.05752848]\n",
      "[u'!', u'\"', u'#', u'$', u'%', u'&', u'(', u')', u'*', u'+']\n"
     ]
    }
   ],
   "source": [
    "# Here are the first 10 coefficients.\n",
    "print(clf.coef_[0][:10])\n",
    "# The features corresponding to them can be found using the vectorizer's get_feature_names method.\n",
    "print(vec.get_feature_names()[:10])"
   ]
  },
  {
   "cell_type": "code",
   "execution_count": 62,
   "metadata": {
    "collapsed": false,
    "scrolled": false
   },
   "outputs": [
    {
     "name": "stdout",
     "output_type": "stream",
     "text": [
      "top positive coefs: [(u'worth', 0.61202695820743236), (u'film', 0.54737364161559265), (u'have', 0.47928273189926307), (u'best', 0.46199108787296184), (u'great', 0.45368029926377001)]\n",
      "top negative coefs: [(u'worst', -0.85392289056253956), (u'nothing', -0.7375834863164844), (u'waste', -0.6670070457025512), (u'boring', -0.56750539181477289), (u'bad', -0.56574411470095165)]\n"
     ]
    }
   ],
   "source": [
    "def get_top_coefficients(clf, vec, n=10):\n",
    "    \"\"\" Get the top n coefficients for each class (positive/negative).\n",
    "    Params:\n",
    "        clf...a LogisticRegression object that has already been fit to data.\n",
    "        vec...a CountVectorizer\n",
    "        n.....the number of features to print per class.\n",
    "    Returns:\n",
    "        Two lists of tuples. The first list containts the top terms for the positive\n",
    "        class. Each entry is a tuple of (string, float) pairs, where\n",
    "        string is the feature name and float is the coefficient.\n",
    "        The second list is the same but for the negative class.\n",
    "        In each list, entries should be sorted in descending order of \n",
    "        absolute value.\"\"\"\n",
    "    pos_coeff = []\n",
    "    neg_coeff = []\n",
    "    coeff_list =  clf.coef_[0]\n",
    "    feature_names = vec.get_feature_names()\n",
    "    for c,f in zip(coeff_list, feature_names):\n",
    "        if c >=0:\n",
    "            pos_coeff.append((f,c))\n",
    "        elif c < 0:\n",
    "            neg_coeff.append((f,c))\n",
    "        else:\n",
    "            pass\n",
    "    return (sorted(pos_coeff, key = lambda x:x[1], reverse = True)[:n], \n",
    "            sorted(neg_coeff, key = lambda x:x[1])[:n])\n",
    "\n",
    "    \n",
    "pos_coef, neg_coef = get_top_coefficients(clf, vec, n=5)\n",
    "print('top positive coefs: %s' % str(pos_coef))\n",
    "print('top negative coefs: %s' % str(neg_coef))"
   ]
  },
  {
   "cell_type": "markdown",
   "metadata": {},
   "source": [
    "## Read testing data\n",
    "\n",
    "Next, we'll read in the testing files (in the `test/` subdirectory) and compute our accuracy."
   ]
  },
  {
   "cell_type": "code",
   "execution_count": 63,
   "metadata": {
    "collapsed": false
   },
   "outputs": [
    {
     "name": "stdout",
     "output_type": "stream",
     "text": [
      "X_test represents 400 documents with 4734 features\n",
      "y_test has 200 positive and 200 negative labels\n",
      "first testing file is data/test/pos/10055_10.txt\n",
      "last testing file is data/test/neg/9972_3.txt\n",
      "testing accuracy=0.78\n"
     ]
    }
   ],
   "source": [
    "# Do not modify.\n",
    "pos_test_files = get_files(path + os.sep + 'test' + os.sep + 'pos')\n",
    "neg_test_files = get_files(path + os.sep + 'test' + os.sep + 'neg')\n",
    "all_test_files = pos_test_files + neg_test_files\n",
    "# Note that we call .transform, not .fit_transform, since we \n",
    "# don't want to learn a new vocabulary.\n",
    "X_test = vec.transform(all_test_files)\n",
    "y_test = np.array([1] * len(pos_test_files) + [0] * len(neg_test_files))\n",
    "print('X_test represents %d documents with %d features' % (X_test.shape[0], X_test.shape[1]))\n",
    "print('y_test has %d positive and %d negative labels' % (len(np.where(y_test==1)[0]),\n",
    "                                                          len(np.where(y_test==0)[0])))\n",
    "print('first testing file is %s' % all_test_files[0])\n",
    "print('last testing file is %s' % all_test_files[-1])\n",
    "print('testing accuracy=%.4g' % accuracy_score(y_test, clf.predict(X_test)))"
   ]
  },
  {
   "cell_type": "markdown",
   "metadata": {
    "collapsed": false
   },
   "source": [
    "So, our testing accuracy is 78%, which is pretty close to our estimated accuracy of 76.7%."
   ]
  },
  {
   "cell_type": "markdown",
   "metadata": {},
   "source": [
    "Looking at the top terms per class, we see the term *film* as a strongly positive feature. This seems a bit strange. Perhaps good movies are called \"films\" and bad movies are just called \"movies\"? Alternatively, our classifier may have just fit some noise and inflated the coefficient for that term. We will next try removing that term from X to see how it changes testing accuracy."
   ]
  },
  {
   "cell_type": "code",
   "execution_count": 64,
   "metadata": {
    "collapsed": false
   },
   "outputs": [
    {
     "data": {
      "text/plain": [
       "1615"
      ]
     },
     "execution_count": 64,
     "metadata": {},
     "output_type": "execute_result"
    }
   ],
   "source": [
    "# Do not modify.\n",
    "def index_of_term(vec, term):\n",
    "    \"\"\" This returns the column index corresponding to this term.\"\"\"\n",
    "    return int(vec.get_feature_names().index(term))\n",
    "\n",
    "index_of_term(vec, 'film')"
   ]
  },
  {
   "cell_type": "code",
   "execution_count": 66,
   "metadata": {
    "collapsed": false
   },
   "outputs": [
    {
     "name": "stdout",
     "output_type": "stream",
     "text": [
      "testing accuracy=0.7925\n"
     ]
    }
   ],
   "source": [
    "def train_after_removing_features(X, y, vec, features_to_remove):\n",
    "    \"\"\"\n",
    "    Set to 0 the columns of X corresponding to the terms in features_to_remove. \n",
    "    Then, train a new classifier on X and y and return the result.\n",
    "    Params:\n",
    "        X....................the training matrix\n",
    "        y....................the true labels for each row in X\n",
    "        features_to_remove...a list of strings (entries in the vocabulary) that\n",
    "                             should be removed from X\n",
    "    Returns:\n",
    "       The classifier fit on the modified X data.\n",
    "    \"\"\"\n",
    "    for w in features_to_remove:\n",
    "        index = index_of_term(vec, w)\n",
    "        for row in range(X.shape[0]):\n",
    "            X[row,index]=0\n",
    "    \n",
    "    \n",
    "    clf=get_clf()\n",
    "    classified=clf.fit(X,y)\n",
    "    return classified\n",
    "    \n",
    "clf = train_after_removing_features(X.copy(), y, vec, ['film'])\n",
    "print('testing accuracy=%.5g' % accuracy_score(y_test, clf.predict(X_test)))"
   ]
  },
  {
   "cell_type": "markdown",
   "metadata": {},
   "source": [
    "It looks like removing the term *film* slightly increases accuracy (78%->79.25%)."
   ]
  },
  {
   "cell_type": "markdown",
   "metadata": {},
   "source": [
    "Finally, we want to inspect some of the errors made by the classifier on the testing data.\n"
   ]
  },
  {
   "cell_type": "code",
   "execution_count": 67,
   "metadata": {
    "collapsed": false
   },
   "outputs": [
    {
     "data": {
      "text/plain": [
       "[{'filename': 'data/test/pos/9713_8.txt',\n",
       "  'index': 194,\n",
       "  'predicted': 0,\n",
       "  'probas': array([ 0.99188459,  0.00811541]),\n",
       "  'truth': 1},\n",
       " {'filename': 'data/test/pos/4742_10.txt',\n",
       "  'index': 115,\n",
       "  'predicted': 0,\n",
       "  'probas': array([ 0.96939233,  0.03060767]),\n",
       "  'truth': 1},\n",
       " {'filename': 'data/test/neg/479_3.txt',\n",
       "  'index': 305,\n",
       "  'predicted': 1,\n",
       "  'probas': array([ 0.0361062,  0.9638938]),\n",
       "  'truth': 0},\n",
       " {'filename': 'data/test/pos/1617_7.txt',\n",
       "  'index': 65,\n",
       "  'predicted': 0,\n",
       "  'probas': array([ 0.93559659,  0.06440341]),\n",
       "  'truth': 1},\n",
       " {'filename': 'data/test/neg/2383_4.txt',\n",
       "  'index': 266,\n",
       "  'predicted': 1,\n",
       "  'probas': array([ 0.09505138,  0.90494862]),\n",
       "  'truth': 0},\n",
       " {'filename': 'data/test/pos/880_8.txt',\n",
       "  'index': 185,\n",
       "  'predicted': 0,\n",
       "  'probas': array([ 0.90444261,  0.09555739]),\n",
       "  'truth': 1},\n",
       " {'filename': 'data/test/pos/11657_10.txt',\n",
       "  'index': 37,\n",
       "  'predicted': 0,\n",
       "  'probas': array([ 0.89960076,  0.10039924]),\n",
       "  'truth': 1},\n",
       " {'filename': 'data/test/pos/4872_8.txt',\n",
       "  'index': 118,\n",
       "  'predicted': 0,\n",
       "  'probas': array([ 0.88298928,  0.11701072]),\n",
       "  'truth': 1},\n",
       " {'filename': 'data/test/neg/6931_1.txt',\n",
       "  'index': 342,\n",
       "  'predicted': 1,\n",
       "  'probas': array([ 0.11865412,  0.88134588]),\n",
       "  'truth': 0},\n",
       " {'filename': 'data/test/neg/2858_2.txt',\n",
       "  'index': 272,\n",
       "  'predicted': 1,\n",
       "  'probas': array([ 0.12389288,  0.87610712]),\n",
       "  'truth': 0}]"
      ]
     },
     "execution_count": 67,
     "metadata": {},
     "output_type": "execute_result"
    }
   ],
   "source": [
    "\n",
    "def get_top_errors(X_test, y_test, filenames, clf, n=10):\n",
    "    \"\"\"\n",
    "    Use clf to predict the labels of the testing data in X_test. \n",
    "    We want to find incorrectly predicted documents. Furthermore, we want to look at those \n",
    "    where the probability of the incorrect label, according to the classifier, is highest.\n",
    "    Use the .predict_proba method of the classifier to get the probabilities of\n",
    "    each class label. Return the n documents that were misclassified, sorted by the\n",
    "    probability of the incorrect label. The returned value is a list of dicts, defined below.\n",
    "    Params:\n",
    "        X_test......the testing matrix\n",
    "        y_test......the true labels for each testing document\n",
    "        filenames...the filenames for each testing document\n",
    "        clf.........a trained LogisticRegression object\n",
    "        n...........the number of errors to return\n",
    "    Returns:\n",
    "        A list of n dicts containing the following key/value pairs:\n",
    "           index: the index of this document (in the filenames array)\n",
    "           probas: a numpy array containing the probability of class 0 and 1\n",
    "           truth: the true label\n",
    "           predicted: the predicted label\n",
    "           filename: the path to the file for this document\n",
    "    \"\"\"\n",
    "    \n",
    "    predicted_labels =  clf.predict(X_test)\n",
    "    misclassified = []                     #Contains document index of misclassified docs.\n",
    "    for doc_index, pred_labels in enumerate(predicted_labels):\n",
    "        if y_test[doc_index] != pred_labels:\n",
    "            misclassified.append(doc_index)\n",
    "        else:\n",
    "            pass\n",
    "    #print misclassified\n",
    "    probability_prediction = clf.predict_proba(X_test) # Gives the 2 values the probility whether a doc is 1 or 0\n",
    "    # final list containing the details of a misclassified file\n",
    "    master_list =  [{'filename':filenames[mc],\n",
    "                     'index':mc,\n",
    "                     'predicted':predicted_labels[mc],\n",
    "                     'probas':probability_prediction[mc],\n",
    "                     'truth':y_test[mc]}\n",
    "                    for mc in misclassified]\n",
    "    #return [max(ml['probas']) for ml in master_list]\n",
    "    return sorted(master_list, key=lambda x: max(x['probas']), reverse = True)[:n]\n",
    "    \n",
    "    #for document_index in misclassified:\n",
    "        \n",
    "errors = get_top_errors(X_test, y_test, all_test_files, clf)\n",
    "errors"
   ]
  },
  {
   "cell_type": "markdown",
   "metadata": {},
   "source": [
    "Take a look at some of these misclassified documents. Some are errors of the classifier, others may be because the \"true\" labels may be incorrect.\n",
    "\n",
    "To get a sense of what is causing the error, we will identify terms that are most predictive of the wrong class in each document, then print out the context in which they appear."
   ]
  },
  {
   "cell_type": "code",
   "execution_count": 68,
   "metadata": {
    "collapsed": false
   },
   "outputs": [
    {
     "name": "stdout",
     "output_type": "stream",
     "text": [
      "for document data/test/pos/10055_10.txt, the term most predictive of class 0 is no (index=2793)\n",
      "for document data/test/pos/10055_10.txt, the term most predictive of class 1 is best (index=492)\n"
     ]
    }
   ],
   "source": [
    "# Given a document, find the term in it that is most strongly associated\n",
    "# with a given class label, according to a trained classifier.\n",
    "def most_predictive_term_in_doc(instance, clf, class_idx):\n",
    "    \"\"\"\n",
    "    Params:\n",
    "        instance....one row in the X csr_matrix, corresponding to a document.\n",
    "        clf.........a trained LogisticRegression classifier\n",
    "        class_idx...0 or 1. The class for which we should find the most \n",
    "                    predictive term in this document.\n",
    "    Returns:\n",
    "        The index corresponding to the term that appears in this instance\n",
    "        and has the highest coefficient for class class_idx.\n",
    "    \"\"\"\n",
    "    #coeff_list = []          # get a list of coeff for each instance\n",
    "    \n",
    "    #print dir(clf.coef_)\n",
    "    #print len(clf.coef_[0])\n",
    "    #print dir(instance)\n",
    "    #print instance.data\n",
    "    #feature_name = vec.get_feature_names()\n",
    "    if class_idx == 1:\n",
    "        coeff_list = [(instance_indice, clf.coef_[0][instance_indice]) \n",
    "                      for instance_indice in instance.indices\n",
    "                      if clf.coef_[0][instance_indice] > 0 ]\n",
    "        #print sorted (coeff_list, key=lambda x:x[1], reverse = True)\n",
    "        return int(sorted(coeff_list, key=lambda x:x[1], reverse = True)[0][0])\n",
    "    elif class_idx == 0:\n",
    "        coeff_list = [(instance_indice, clf.coef_[0][instance_indice]) \n",
    "                      for instance_indice in instance.indices\n",
    "                      if clf.coef_[0][instance_indice] < 0 ]\n",
    "        return int(sorted(coeff_list, key=lambda x:x[1])[0][0])\n",
    "    else:\n",
    "        return None \n",
    "    #print sorted (coeff_list, key=lambda x:x[1], reverse = True)\n",
    "    #print len(vec.get_feature_names())\n",
    "    #print instance.indptr\n",
    "    #for row in range(instance.shape[1]):\n",
    "    #    column[row] == 1:\n",
    "            \n",
    "    #c = Counter(instance)\n",
    "    #print c.most_common(1)\n",
    "    \n",
    "neg_idx = most_predictive_term_in_doc(X_test[0], clf, 0)\n",
    "pos_idx = most_predictive_term_in_doc(X_test[0], clf, 1)\n",
    "print('for document %s, the term most predictive of class 0 is %s (index=%d)' %\n",
    "      (all_test_files[0], vec.get_feature_names()[neg_idx], neg_idx))\n",
    "print('for document %s, the term most predictive of class 1 is %s (index=%d)' %\n",
    "      (all_test_files[0], vec.get_feature_names()[pos_idx], pos_idx))"
   ]
  },
  {
   "cell_type": "code",
   "execution_count": 69,
   "metadata": {
    "collapsed": false
   },
   "outputs": [
    {
     "name": "stdout",
     "output_type": "stream",
     "text": [
      "\"no\" context with window 3: [u'so it was no \" last emperor']\n",
      "\"no\" context with window 5: [u'proudly ? so it was no \" last emperor \" ,']\n",
      "\"best\" context: [u\"it wasn ' t her best movie ever ? didn '\"]\n",
      "\"a\" contexts: [u\"to rate this movie at a 10 . i ' m think of it as an a + sociological study into the\"]\n"
     ]
    }
   ],
   "source": [
    "def find_contexts(filename, term, window=5):\n",
    "    \"\"\"\n",
    "    Find all context windows in which this term appears in this file.\n",
    "    You should use tokenize_with_not to tokenize this file. \n",
    "    \n",
    "    Params:\n",
    "        filename....the filename for this document.\n",
    "        term........the term to find\n",
    "        window......return this many tokens to the left and this many tokens to\n",
    "                    the right of every occurrence of term in this document\n",
    "    Returns:\n",
    "        a list of strings. Each string contains the matched context window.\n",
    "    \"\"\"\n",
    "    text = file2string(filename)\n",
    "    #print text\n",
    "    tokens = tokenize_with_not(text)\n",
    "    contexts = []\n",
    "    for i in range(0, len(tokens)):\n",
    "        if tokens[i] == term:\n",
    "            minus = i - 1\n",
    "            plus = i +1\n",
    "            contexts.append(\" \".join(tokens[i-window:plus]))\n",
    "            contexts.append(\" \".join(tokens[plus:plus+window]))\n",
    "    return [\" \".join(contexts)]\n",
    "\n",
    "# Here are some sample outputs on the first test document:\n",
    "print('\"no\" context with window 3: %s' % find_contexts(all_test_files[0], 'no', 3))\n",
    "print('\"no\" context with window 5: %s' % find_contexts(all_test_files[0], 'no', 5))\n",
    "print('\"best\" context: %s' % find_contexts(all_test_files[0], 'best'))\n",
    "print('\"a\" contexts: %s' % find_contexts(all_test_files[0], 'a'))\n"
   ]
  },
  {
   "cell_type": "markdown",
   "metadata": {
    "collapsed": false
   },
   "source": [
    "### Do not modify. This will use your code above to print the top errors.\n",
    "def print_errors(errors, clf, X, vec, window=5):\n",
    "    for error in errors:\n",
    "        fidx = most_predictive_term_in_doc(X[error['index']], clf, error['predicted'])\n",
    "        term = vec.get_feature_names()[fidx]\n",
    "        print('document %s misclassified as %d' % (error['filename'], error['predicted']))\n",
    "        print('%s appears here:' % (term))\n",
    "        print(find_contexts(error['filename'], term, window))\n",
    "        print('')\n",
    "\n",
    "        \n",
    "print_errors(errors, clf, X_test, vec, window=10)"
   ]
  },
  {
   "cell_type": "code",
   "execution_count": 70,
   "metadata": {
    "collapsed": false
   },
   "outputs": [
    {
     "data": {
      "image/png": "[encoded data removed]",
      "text/plain": [
       "<matplotlib.figure.Figure at 0x10b032990>"
      ]
     },
     "metadata": {},
     "output_type": "display_data"
    },
    {
     "data": {
      "image/png": "[encoded data removed]",
      "text/plain": [
       "<matplotlib.figure.Figure at 0x10aeba590>"
      ]
     },
     "metadata": {},
     "output_type": "display_data"
    },
    {
     "data": {
      "image/png": "[encoded data removed]",
      "text/plain": [
       "<matplotlib.figure.Figure at 0x108466ed0>"
      ]
     },
     "metadata": {},
     "output_type": "display_data"
    }
   ],
   "source": [
    "# Do not modify.\n",
    "import json\n",
    "outf = open('output.txt', 'wt')\n",
    "clf.fit(X, y)\n",
    "\n",
    "json.dump({\n",
    "           'find_contexts': find_contexts(all_test_files[10], 'its', 10),\n",
    "           'pred_term': most_predictive_term_in_doc(X_test[10], clf, 1),\n",
    "           'top_errors': str(get_top_errors(X_test, y_test, all_test_files, clf)[0].items()),\n",
    "           'get_files': get_files(path + os.sep + 'train' + os.sep + 'pos')[:10],\n",
    "           'get_true_labels_pos': list(get_true_labels(get_files(path + os.sep + 'train' + os.sep + 'pos')[:5])),\n",
    "           'get_true_labels_neg': list(get_true_labels(get_files(path + os.sep + 'train' + os.sep + 'neg')[:5])),\n",
    "           'tokenize': tokenize('Hi-there-what_is UP????'),\n",
    "           'tokenize_punct': tokenize_with_punct('Hi-there-what_is UP????'),\n",
    "           'tokenize_not': tokenize_with_not('Hi-that is not cool . at all . not'),\n",
    "           'vec': sorted(do_vectorize(get_files(path + os.sep + 'train' + os.sep + 'pos')[:10])[0][8].nonzero()[1].tolist())[:10],\n",
    "           'vec_nonbinary': sorted(do_vectorize(get_files(path + os.sep + 'train' +\n",
    "                                                         os.sep + 'pos')[:10], binary=False)[0][8].data)[::-1][:10],\n",
    "           'cv10': '%.4f' % do_cross_validation(X[:100], y[:100], verbose=False, n_folds=10),\n",
    "           'cv3': '%.4f' % do_cross_validation(X[:100], y[:100], verbose=False, n_folds=3),\n",
    "           'nfolds_expt': ['%.4f' % v for v in compare_n_folds(filenames, y)],\n",
    "           'binary_expt': ['%.4f' % v for v in compare_binary(filenames, y)],\n",
    "           'tokenizer_expt': ['%.4f' % v for v in tokenizer_expt(filenames, y)],\n",
    "           'mindf_expt': ['%.4f' % v for v in min_df_expt(filenames, y)],\n",
    "           'maxdf_expt': ['%.4f' % v for v in max_df_expt(filenames, y)],\n",
    "           'top_coef': get_top_coefficients(clf, vec, n=3),\n",
    "           'rem_feat': '%.4f' % accuracy_score(train_after_removing_features(X.copy(), y, vec, ['worst']).predict(X_test), y_test),\n",
    "          },\n",
    "          outf, indent=2, sort_keys=True)\n",
    "outf.close()"
   ]
  },
  {
   "cell_type": "code",
   "execution_count": null,
   "metadata": {
    "collapsed": true
   },
   "outputs": [],
   "source": []
  }
 ],
 "metadata": {
  "kernelspec": {
   "display_name": "Python 2",
   "language": "python",
   "name": "python2"
  },
  "language_info": {
   "codemirror_mode": {
    "name": "ipython",
    "version": 2
   },
   "file_extension": ".py",
   "mimetype": "text/x-python",
   "name": "python",
   "nbconvert_exporter": "python",
   "pygments_lexer": "ipython2",
   "version": "2.7.10"
  }
 },
 "nbformat": 4,
 "nbformat_minor": 0
}
